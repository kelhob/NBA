{
  "nbformat": 4,
  "nbformat_minor": 0,
  "metadata": {
    "colab": {
      "provenance": [],
      "authorship_tag": "ABX9TyMuBb5ah3BLVy2/DsGifVQP",
      "include_colab_link": true
    },
    "kernelspec": {
      "name": "python3",
      "display_name": "Python 3"
    },
    "language_info": {
      "name": "python"
    }
  },
  "cells": [
    {
      "cell_type": "markdown",
      "metadata": {
        "id": "view-in-github",
        "colab_type": "text"
      },
      "source": [
        "<a href=\"https://colab.research.google.com/github/kelhob/NBA/blob/main/NBA.ipynb\" target=\"_parent\"><img src=\"https://colab.research.google.com/assets/colab-badge.svg\" alt=\"Open In Colab\"/></a>"
      ]
    },
    {
      "cell_type": "code",
      "execution_count": null,
      "metadata": {
        "id": "uDhX5uWhX-Mk"
      },
      "outputs": [],
      "source": [
        "# This Python 3 environment comes with many helpful analytics libraries installed\n",
        "# It is defined by the kaggle/python Docker image: https://github.com/kaggle/docker-python\n",
        "# For example, here's several helpful packages to load\n",
        "\n",
        "import numpy as np # linear algebra\n",
        "import pandas as pd # data processing, CSV file I/O (e.g. pd.read_csv)\n",
        "\n",
        "# Input data files are available in the read-only \"../input/\" directory\n",
        "# For example, running this (by clicking run or pressing Shift+Enter) will list all files under the input directory"
      ]
    },
    {
      "cell_type": "code",
      "source": [
        "from google.colab import drive\n",
        "drive.mount('/content/drive/')"
      ],
      "metadata": {
        "colab": {
          "base_uri": "https://localhost:8080/"
        },
        "id": "Kryn9xlDcXP1",
        "outputId": "40eb30cc-520a-4db6-94eb-62a6247b37f6"
      },
      "execution_count": 5,
      "outputs": [
        {
          "output_type": "stream",
          "name": "stdout",
          "text": [
            "Mounted at /content/drive/\n"
          ]
        }
      ]
    },
    {
      "cell_type": "code",
      "source": [],
      "metadata": {
        "id": "WTzM1ZDrf1ZS"
      },
      "execution_count": null,
      "outputs": []
    },
    {
      "cell_type": "code",
      "source": [],
      "metadata": {
        "id": "yDXggYxif2lF"
      },
      "execution_count": null,
      "outputs": []
    },
    {
      "cell_type": "code",
      "source": [
        "# prompt: move to /drive/data dir\n",
        "\n",
        "import os\n",
        "os.chdir('/content/drive/My Drive/data')\n",
        "print(os.getcwd())\n"
      ],
      "metadata": {
        "colab": {
          "base_uri": "https://localhost:8080/"
        },
        "id": "qltY4Qvud7RO",
        "outputId": "147723da-de03-48fe-8017-b21ef83f0f69"
      },
      "execution_count": 7,
      "outputs": [
        {
          "output_type": "stream",
          "name": "stdout",
          "text": [
            "/content/drive/My Drive/data\n"
          ]
        }
      ]
    },
    {
      "cell_type": "code",
      "source": [
        "import sqlite3 as sql\n",
        "print ('Sqlite is ready')"
      ],
      "metadata": {
        "colab": {
          "base_uri": "https://localhost:8080/"
        },
        "id": "T0tIEVWtfDiK",
        "outputId": "6ca0d558-b14c-4acc-bd80-fb98e2de8e09"
      },
      "execution_count": 8,
      "outputs": [
        {
          "output_type": "stream",
          "name": "stdout",
          "text": [
            "Sqlite is ready\n"
          ]
        }
      ]
    },
    {
      "cell_type": "code",
      "source": [
        "path=\"/content/drive/My Drive/data/nba.sqlite\"\n",
        "conn= sql.connect(path)\n",
        "print (\"Database is connected\")"
      ],
      "metadata": {
        "colab": {
          "base_uri": "https://localhost:8080/"
        },
        "id": "EOKjRCnjfZaM",
        "outputId": "621e8734-b65a-4caf-c205-a64589d46bff"
      },
      "execution_count": 9,
      "outputs": [
        {
          "output_type": "stream",
          "name": "stdout",
          "text": [
            "Database is connected\n"
          ]
        }
      ]
    },
    {
      "cell_type": "code",
      "source": [
        "t1=pd.read_sql_query(\"Select * FROM player\",conn)\n",
        "print(t1)\n"
      ],
      "metadata": {
        "colab": {
          "base_uri": "https://localhost:8080/"
        },
        "id": "iLeoorArfeYb",
        "outputId": "15c7fc1f-4a7e-44de-fdcf-8ef09cc47c72"
      },
      "execution_count": 11,
      "outputs": [
        {
          "output_type": "stream",
          "name": "stdout",
          "text": [
            "           id            full_name first_name     last_name  is_active\n",
            "0       76001       Alaa Abdelnaby       Alaa     Abdelnaby          0\n",
            "1       76002      Zaid Abdul-Aziz       Zaid    Abdul-Aziz          0\n",
            "2       76003  Kareem Abdul-Jabbar     Kareem  Abdul-Jabbar          0\n",
            "3          51   Mahmoud Abdul-Rauf    Mahmoud    Abdul-Rauf          0\n",
            "4        1505    Tariq Abdul-Wahad      Tariq   Abdul-Wahad          0\n",
            "...       ...                  ...        ...           ...        ...\n",
            "4810  1627790           Ante Zizic       Ante         Zizic          0\n",
            "4811    78647             Jim Zoet        Jim          Zoet          0\n",
            "4812    78648            Bill Zopf       Bill          Zopf          0\n",
            "4813  1627826          Ivica Zubac      Ivica         Zubac          1\n",
            "4814    78650           Matt Zunic       Matt         Zunic          0\n",
            "\n",
            "[4815 rows x 5 columns]\n"
          ]
        }
      ]
    },
    {
      "cell_type": "code",
      "source": [
        "#EDA Questions= 1949 to 2020, top 5?\n",
        "q1=\"\"\"SELECT season,Count(Distinct team_id) as Count_teams\n",
        "from draft_history\n",
        "group by season\n",
        "order by Count_teams desc limit 5\"\"\"\n",
        "r1=pd.read_sql(q1,conn)\n",
        "print(r1)"
      ],
      "metadata": {
        "id": "EEB-B2Qkf4RW",
        "outputId": "122c3b39-cbbf-49db-ef39-22d0d441f048",
        "colab": {
          "base_uri": "https://localhost:8080/"
        }
      },
      "execution_count": 12,
      "outputs": [
        {
          "output_type": "stream",
          "name": "stdout",
          "text": [
            "  season  Count_teams\n",
            "0   2012           30\n",
            "1   2011           30\n",
            "2   2020           29\n",
            "3   2015           29\n",
            "4   2006           29\n"
          ]
        }
      ]
    },
    {
      "cell_type": "code",
      "source": [
        "q3=\"\"\"SELECT * from player p join common_player_info ps on p.id=ps.person_id\n",
        "where p.full_name='Kobe Bryant'\"\"\"\n",
        "r3=pd.read_sql(q3,conn)\n",
        "print(r3)"
      ],
      "metadata": {
        "colab": {
          "base_uri": "https://localhost:8080/"
        },
        "id": "cX-NPtscgTlT",
        "outputId": "a7b3b62e-f8f6-4606-d098-b9278b040cca"
      },
      "execution_count": 17,
      "outputs": [
        {
          "output_type": "stream",
          "name": "stdout",
          "text": [
            "    id    full_name first_name last_name  is_active person_id first_name  \\\n",
            "0  977  Kobe Bryant       Kobe    Bryant          0       977       Kobe   \n",
            "\n",
            "  last_name display_first_last display_last_comma_first  ...   playercode  \\\n",
            "0    Bryant        Kobe Bryant             Bryant, Kobe  ...  kobe_bryant   \n",
            "\n",
            "  from_year to_year dleague_flag nba_flag games_played_flag draft_year  \\\n",
            "0    1996.0  2015.0            N        Y                 Y       1996   \n",
            "\n",
            "  draft_round  draft_number greatest_75_flag  \n",
            "0           1            13                Y  \n",
            "\n",
            "[1 rows x 38 columns]\n"
          ]
        }
      ]
    },
    {
      "cell_type": "code",
      "source": [
        "q4=\"\"\"SELECT * from\n",
        "team t\n",
        "join game g on t.id=g.team_id_home\n",
        "join game_summary gs on g.game_id=gs.game_id\n",
        "where t.id in ('1610612747','1610612741','1610612739')\n",
        "and gs.season > 1994\"\"\"\n",
        "r4=pd.read_sql(q4,conn)\n",
        "print(r4)"
      ],
      "metadata": {
        "outputId": "d071b8c8-d137-43ba-ced7-2d27459b1cd0",
        "colab": {
          "base_uri": "https://localhost:8080/"
        },
        "id": "Fs3iichW0-HJ"
      },
      "execution_count": 21,
      "outputs": [
        {
          "output_type": "stream",
          "name": "stdout",
          "text": [
            "              id            full_name abbreviation   nickname         city  \\\n",
            "0     1610612739  Cleveland Cavaliers          CLE  Cavaliers    Cleveland   \n",
            "1     1610612739  Cleveland Cavaliers          CLE  Cavaliers    Cleveland   \n",
            "2     1610612739  Cleveland Cavaliers          CLE  Cavaliers    Cleveland   \n",
            "3     1610612739  Cleveland Cavaliers          CLE  Cavaliers    Cleveland   \n",
            "4     1610612739  Cleveland Cavaliers          CLE  Cavaliers    Cleveland   \n",
            "...          ...                  ...          ...        ...          ...   \n",
            "3306  1610612747   Los Angeles Lakers          LAL     Lakers  Los Angeles   \n",
            "3307  1610612747   Los Angeles Lakers          LAL     Lakers  Los Angeles   \n",
            "3308  1610612747   Los Angeles Lakers          LAL     Lakers  Los Angeles   \n",
            "3309  1610612747   Los Angeles Lakers          LAL     Lakers  Los Angeles   \n",
            "3310  1610612747   Los Angeles Lakers          LAL     Lakers  Los Angeles   \n",
            "\n",
            "           state  year_founded season_id team_id_home team_abbreviation_home  \\\n",
            "0           Ohio        1970.0     12005   1610612739                    CLE   \n",
            "1           Ohio        1970.0     12005   1610612739                    CLE   \n",
            "2           Ohio        1970.0     12005   1610612739                    CLE   \n",
            "3           Ohio        1970.0     12006   1610612739                    CLE   \n",
            "4           Ohio        1970.0     12006   1610612739                    CLE   \n",
            "...          ...           ...       ...          ...                    ...   \n",
            "3306  California        1948.0     42022   1610612747                    LAL   \n",
            "3307  California        1948.0     42022   1610612747                    LAL   \n",
            "3308  California        1948.0     42022   1610612747                    LAL   \n",
            "3309  California        1948.0     42022   1610612747                    LAL   \n",
            "3310  California        1948.0     42022   1610612747                    LAL   \n",
            "\n",
            "      ... game_status_text         gamecode home_team_id visitor_team_id  \\\n",
            "0     ...            Final  20051011/BOSCLE   1610612739      1610612738   \n",
            "1     ...            Final  20051019/MEMCLE   1610612739      1610612763   \n",
            "2     ...            Final  20051023/TORCLE   1610612739      1610612761   \n",
            "3     ...            Final  20061010/BOSCLE   1610612739      1610612738   \n",
            "4     ...            Final  20061014/WASCLE   1610612739      1610612764   \n",
            "...   ...              ...              ...          ...             ...   \n",
            "3306  ...            Final  20230506/GSWLAL   1610612747      1610612744   \n",
            "3307  ...            Final  20230508/GSWLAL   1610612747      1610612744   \n",
            "3308  ...            Final  20230512/GSWLAL   1610612747      1610612744   \n",
            "3309  ...            Final  20230520/DENLAL   1610612747      1610612743   \n",
            "3310  ...            Final  20230522/DENLAL   1610612747      1610612743   \n",
            "\n",
            "     season  live_period  live_pc_time  natl_tv_broadcaster_abbreviation  \\\n",
            "0      2005            4                                            None   \n",
            "1      2005            4                                            None   \n",
            "2      2005            4                                            None   \n",
            "3      2006            4                                            None   \n",
            "4      2006            4                                            None   \n",
            "...     ...          ...           ...                               ...   \n",
            "3306   2022            4                                             ABC   \n",
            "3307   2022            4                                             TNT   \n",
            "3308   2022            4                                            ESPN   \n",
            "3309   2022            4                                             ABC   \n",
            "3310   2022            4                                            ESPN   \n",
            "\n",
            "      live_period_time_bcast  wh_status  \n",
            "0                     Q4  -           1  \n",
            "1                     Q4  -           1  \n",
            "2                     Q4  -           1  \n",
            "3                     Q4  -           1  \n",
            "4                     Q4  -           1  \n",
            "...                      ...        ...  \n",
            "3306          Q4       - ABC          1  \n",
            "3307          Q4       - TNT          1  \n",
            "3308         Q4       - ESPN          1  \n",
            "3309          Q4       - ABC          1  \n",
            "3310         Q4       - ESPN          1  \n",
            "\n",
            "[3311 rows x 76 columns]\n"
          ]
        }
      ]
    }
  ]
}