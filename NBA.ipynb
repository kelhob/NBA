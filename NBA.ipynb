{
  "nbformat": 4,
  "nbformat_minor": 0,
  "metadata": {
    "colab": {
      "provenance": [],
      "authorship_tag": "ABX9TyPsrEgllBponUVH4cJ4DPkM",
      "include_colab_link": true
    },
    "kernelspec": {
      "name": "python3",
      "display_name": "Python 3"
    },
    "language_info": {
      "name": "python"
    }
  },
  "cells": [
    {
      "cell_type": "markdown",
      "metadata": {
        "id": "view-in-github",
        "colab_type": "text"
      },
      "source": [
        "<a href=\"https://colab.research.google.com/github/kelhob/NBA/blob/main/NBA.ipynb\" target=\"_parent\"><img src=\"https://colab.research.google.com/assets/colab-badge.svg\" alt=\"Open In Colab\"/></a>"
      ]
    },
    {
      "cell_type": "code",
      "execution_count": null,
      "metadata": {
        "id": "uDhX5uWhX-Mk"
      },
      "outputs": [],
      "source": [
        "# This Python 3 environment comes with many helpful analytics libraries installed\n",
        "# It is defined by the kaggle/python Docker image: https://github.com/kaggle/docker-python\n",
        "# For example, here's several helpful packages to load\n",
        "\n",
        "import numpy as np # linear algebra\n",
        "import pandas as pd # data processing, CSV file I/O (e.g. pd.read_csv)\n",
        "\n",
        "# Input data files are available in the read-only \"../input/\" directory\n",
        "# For example, running this (by clicking run or pressing Shift+Enter) will list all files under the input directory"
      ]
    },
    {
      "cell_type": "code",
      "source": [
        "from google.colab import drive\n",
        "drive.mount('/content/drive/')"
      ],
      "metadata": {
        "colab": {
          "base_uri": "https://localhost:8080/"
        },
        "id": "Kryn9xlDcXP1",
        "outputId": "40eb30cc-520a-4db6-94eb-62a6247b37f6"
      },
      "execution_count": 5,
      "outputs": [
        {
          "output_type": "stream",
          "name": "stdout",
          "text": [
            "Mounted at /content/drive/\n"
          ]
        }
      ]
    },
    {
      "cell_type": "code",
      "source": [
        "# prompt: move to /drive/data dir\n",
        "\n",
        "import os\n",
        "os.chdir('/content/drive/My Drive/data')\n",
        "print(os.getcwd())\n"
      ],
      "metadata": {
        "colab": {
          "base_uri": "https://localhost:8080/"
        },
        "id": "qltY4Qvud7RO",
        "outputId": "147723da-de03-48fe-8017-b21ef83f0f69"
      },
      "execution_count": 7,
      "outputs": [
        {
          "output_type": "stream",
          "name": "stdout",
          "text": [
            "/content/drive/My Drive/data\n"
          ]
        }
      ]
    },
    {
      "cell_type": "code",
      "source": [
        "import sqlite3 as sql\n",
        "print ('Sqlite is ready')"
      ],
      "metadata": {
        "colab": {
          "base_uri": "https://localhost:8080/"
        },
        "id": "T0tIEVWtfDiK",
        "outputId": "6ca0d558-b14c-4acc-bd80-fb98e2de8e09"
      },
      "execution_count": 8,
      "outputs": [
        {
          "output_type": "stream",
          "name": "stdout",
          "text": [
            "Sqlite is ready\n"
          ]
        }
      ]
    },
    {
      "cell_type": "code",
      "source": [
        "path=\"/content/drive/My Drive/data/nba.sqlite\"\n",
        "conn= sql.connect(path)\n",
        "print (\"Database is connected\")"
      ],
      "metadata": {
        "colab": {
          "base_uri": "https://localhost:8080/"
        },
        "id": "EOKjRCnjfZaM",
        "outputId": "621e8734-b65a-4caf-c205-a64589d46bff"
      },
      "execution_count": 9,
      "outputs": [
        {
          "output_type": "stream",
          "name": "stdout",
          "text": [
            "Database is connected\n"
          ]
        }
      ]
    },
    {
      "cell_type": "code",
      "source": [
        "t1=pd.read_sql_query(\"Select * FROM player\",conn)\n",
        "print(t1)\n"
      ],
      "metadata": {
        "colab": {
          "base_uri": "https://localhost:8080/"
        },
        "id": "iLeoorArfeYb",
        "outputId": "f5dfea33-4cec-4759-fd8d-ee9e902c9d57"
      },
      "execution_count": 10,
      "outputs": [
        {
          "output_type": "stream",
          "name": "stdout",
          "text": [
            "           id            full_name first_name     last_name  is_active\n",
            "0       76001       Alaa Abdelnaby       Alaa     Abdelnaby          0\n",
            "1       76002      Zaid Abdul-Aziz       Zaid    Abdul-Aziz          0\n",
            "2       76003  Kareem Abdul-Jabbar     Kareem  Abdul-Jabbar          0\n",
            "3          51   Mahmoud Abdul-Rauf    Mahmoud    Abdul-Rauf          0\n",
            "4        1505    Tariq Abdul-Wahad      Tariq   Abdul-Wahad          0\n",
            "...       ...                  ...        ...           ...        ...\n",
            "4810  1627790           Ante Zizic       Ante         Zizic          0\n",
            "4811    78647             Jim Zoet        Jim          Zoet          0\n",
            "4812    78648            Bill Zopf       Bill          Zopf          0\n",
            "4813  1627826          Ivica Zubac      Ivica         Zubac          1\n",
            "4814    78650           Matt Zunic       Matt         Zunic          0\n",
            "\n",
            "[4815 rows x 5 columns]\n"
          ]
        }
      ]
    }
  ]
}